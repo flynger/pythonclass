{
 "cells": [
  {
   "cell_type": "markdown",
   "metadata": {},
   "source": [
    "# Youtube Trending Video Statistics (2017-2018)\n",
    "It's important to note that this **only** contains trending videos from a certain time period, so any statistics calculated only apply to this population.\n",
    "Also, one video can go trending multiple times, so there are certainly duplicate videos that went trending at different times in the dataset, that I won't exclude from the data except for certain calculations."
   ]
  },
  {
   "cell_type": "markdown",
   "metadata": {},
   "source": [
    "Here's the raw data, with category ids mapped to their string values for better readability.\n",
    "<br>\n",
    "**Note:** Loading and mapping the 40949 rows takes a while, but everything is a breeze after that."
   ]
  },
  {
   "cell_type": "code",
   "execution_count": null,
   "metadata": {
    "jupyter": {
     "source_hidden": true
    }
   },
   "outputs": [],
   "source": [
    "import pandas as pd\n",
    "import numpy as np\n",
    "import matplotlib.pyplot as plt\n",
    "import json \n",
    "import datetime as dt\n",
    "\n",
    "csv_file = 'USvideos.csv'\n",
    "json_file = 'US_category_id.json'\n",
    "\n",
    "#Loading files into variables\n",
    "trending_videos = pd.read_csv(csv_file, index_col='video_id')\n",
    "categories_json = json.load(open(json_file,'r'))\n",
    "categories_by_id = {}\n",
    "categories_by_name = {}\n",
    "\n",
    "for category in categories_json['items']:\n",
    "    categories_by_id[category['id']] = category['snippet']['title']\n",
    "    categories_by_name[category['snippet']['title']] = category['id']\n",
    "    \n",
    "for video in trending_videos.transpose():\n",
    "    try:\n",
    "        category_id = trending_videos.loc[video, \"category_id\"].iloc[0]\n",
    "    except:\n",
    "        category_id = trending_videos.loc[video, \"category_id\"]\n",
    "    if isinstance(category_id, str) == True:\n",
    "         continue\n",
    "    trending_videos.loc[video, \"category_id\"] = categories_by_id[str(category_id)]\n",
    "\n",
    "trending_videos"
   ]
  },
  {
   "cell_type": "code",
   "execution_count": null,
   "metadata": {},
   "outputs": [],
   "source": [
    "trending_videos"
   ]
  },
  {
   "cell_type": "markdown",
   "metadata": {},
   "source": [
    "### Simple pie chart showing the distribution of views in trending videos\n"
   ]
  },
  {
   "cell_type": "markdown",
   "metadata": {},
   "source": [
    "The videos are grouped into the categories 'Under 100k views', '100k to 500k views', '500k to 1m views', '1m to 3m views', and '3m and above views.'"
   ]
  },
  {
   "cell_type": "code",
   "execution_count": null,
   "metadata": {
    "jupyter": {
     "source_hidden": true
    }
   },
   "outputs": [],
   "source": [
    "views_list = list()\n",
    "for i in range(0, len(trending_videos)):\n",
    "    views_list.append(trending_videos['views'][i])\n",
    "labels = 'Under 100k views', '100k to 500k views', '500k to 1m views', '1m to 3m views', '3m and above views'\n",
    "data = [0, 0, 0, 0, 0]\n",
    "\n",
    "for i in range(len(views_list)):\n",
    "    if(views_list[i] > 3000000):\n",
    "        data[4] += 1\n",
    "    elif(views_list[i] > 1000000):\n",
    "        data[3] += 1\n",
    "    elif(views_list[i] > 500000):\n",
    "        data[2] += 1\n",
    "    elif(views_list[i] > 100000):\n",
    "        data[1] += 1\n",
    "    elif(views_list[i] > 0):\n",
    "        data[0] += 1\n",
    "\n",
    "fig1, ax1 = plt.subplots()\n",
    "ax1.pie(data, labels=labels, autopct='%1.1f%%', startangle=90)\n",
    "ax1.axis('equal')\n",
    "plt.show()"
   ]
  },
  {
   "cell_type": "markdown",
   "metadata": {},
   "source": [
    "### Distribution of trending videos by category"
   ]
  },
  {
   "cell_type": "markdown",
   "metadata": {},
   "source": [
    "It's pretty easy to see that certain categories of videos are more popular or more likely to go trending than others. The biggest ones are Entertainment, Music, Howto & Style, People & Blogs, and Comedy, which comprise about 2/3 of the dataset alone!"
   ]
  },
  {
   "cell_type": "code",
   "execution_count": null,
   "metadata": {
    "jupyter": {
     "source_hidden": true
    }
   },
   "outputs": [],
   "source": [
    "categories_list = {}\n",
    "for i in range(0, len(trending_videos)):\n",
    "    if trending_videos['category_id'][i] in categories_list:\n",
    "        categories_list[trending_videos['category_id'][i]] += 1\n",
    "    else:\n",
    "        categories_list[trending_videos['category_id'][i]] = 1\n",
    "\n",
    "fig1, ax1 = plt.subplots()\n",
    "ax1.pie(categories_list.values(), labels=categories_list.keys(), autopct='%1.1f%%', startangle=90)\n",
    "ax1.axis('equal')\n",
    "plt.show()"
   ]
  },
  {
   "cell_type": "markdown",
   "metadata": {},
   "source": [
    "### Distribution of trending videos by category (minority grouped as other)"
   ]
  },
  {
   "cell_type": "markdown",
   "metadata": {},
   "source": [
    "With the tons of tiny categories lost in there, I thought it would be better to group them as an 'other' category, which makes the graph much more readable. Here it is below!"
   ]
  },
  {
   "cell_type": "code",
   "execution_count": null,
   "metadata": {
    "jupyter": {
     "source_hidden": true
    }
   },
   "outputs": [],
   "source": [
    "categories_list = {}\n",
    "categories_to_delete = []\n",
    "for i in range(0, len(trending_videos)):\n",
    "    if trending_videos['category_id'][i] in categories_list:\n",
    "        categories_list[trending_videos['category_id'][i]] += 1\n",
    "    else:\n",
    "        categories_list[trending_videos['category_id'][i]] = 1\n",
    "categories_list['other'] = 0\n",
    "for category in categories_list:\n",
    "    if categories_list[category] < 900 and category != 'other':\n",
    "        categories_list['other'] += categories_list[category]\n",
    "        categories_to_delete.append(category)\n",
    "for category in categories_to_delete:\n",
    "    del categories_list[category]\n",
    "fig1, ax1 = plt.subplots()\n",
    "ax1.pie(categories_list.values(), labels=categories_list.keys(), autopct='%1.1f%%', startangle=90)\n",
    "ax1.axis('equal')\n",
    "plt.show()"
   ]
  },
  {
   "cell_type": "markdown",
   "metadata": {},
   "source": [
    "### Trending Tag Statistics"
   ]
  },
  {
   "cell_type": "markdown",
   "metadata": {},
   "source": [
    "I thought it would be cool to track usage of tags in the many different trending videos, and see if there was any pattern in their usage over time and by categories."
   ]
  },
  {
   "cell_type": "code",
   "execution_count": null,
   "metadata": {
    "jupyter": {
     "source_hidden": true
    }
   },
   "outputs": [],
   "source": [
    "pd.set_option('display.max_rows', 10)\n",
    "tag = input(\"Enter the tag to search:\")\n",
    "unique = input(\"Show duplicate results (Y/N)? (videos that went trending more than once):\").lower()\n",
    "match_condition = input(\"Match term (Y/N)? (Excludes tags that may contain the term in it but not by itself):\").lower()\n",
    "results = input(\"Show all results (Y/N)?\")\n",
    "if results == \"y\":\n",
    "    pd.set_option('display.max_rows', 1000000)\n",
    "if unique == \"n\":\n",
    "    unique = True\n",
    "else:\n",
    "    unique = False\n",
    "    \n",
    "if match_condition == \"n\":\n",
    "    match_condition = False\n",
    "else:\n",
    "    match_condition = True\n",
    "\n",
    "months_from_2017 = {}\n",
    "unique_keys = {}\n",
    "tag_count = 0\n",
    "operation = trending_videos.copy()\n",
    "category_association = {}\n",
    "categories_to_delete = []\n",
    "for i in range(0, len(trending_videos)):\n",
    "    tags = trending_videos['tags'][i]\n",
    "    if match_condition == True:\n",
    "        tags = tags.replace('\"','').replace(\"[none]\",\"\").split('|')\n",
    "    if tag in tags:\n",
    "        trending_date_text = trending_videos['trending_date'][i].split(\".\")\n",
    "        months = int(trending_date_text[2])\n",
    "        if trending_date_text[0] == \"18\":\n",
    "            months += 12\n",
    "        if months in months_from_2017:\n",
    "            months_from_2017[months] += 1\n",
    "        else:\n",
    "            months_from_2017[months] = 1\n",
    "        if trending_videos.index[i] in unique_keys:\n",
    "            continue\n",
    "        operation['tags'][i] = tag\n",
    "        tag_count += 1\n",
    "        if trending_videos['category_id'][i] in category_association:\n",
    "            category_association[trending_videos['category_id'][i]] += 1\n",
    "        else:\n",
    "            category_association[trending_videos['category_id'][i]] = 1\n",
    "        if unique == True:\n",
    "            unique_keys[trending_videos.index[i]] = True\n",
    "category_association['other'] = 0\n",
    "for category in category_association:\n",
    "    if category_association[category] < 0.04 * tag_count and category != 'other':\n",
    "        category_association['other'] += category_association[category]\n",
    "        categories_to_delete.append(category)\n",
    "for category in categories_to_delete:\n",
    "    del category_association[category]\n",
    "print(\"Found \" + str(tag_count) + \" results with tag '\" + tag + \"'.\")\n",
    "\n",
    "mx = []\n",
    "mv = []\n",
    "for month in months_from_2017:\n",
    "    mx.append(int(month))\n",
    "    mv.append(int(months_from_2017[month]))\n",
    "    \n",
    "scatterboi = plt.scatter(mx, mv) #creates a scatterplot object. The first parameter is the x-axis variable and the second parameter is the y-axis variable. \n",
    "plt.plot(mx, mv, linestyle='-', marker='o')\n",
    "plt.xlabel(\"Months since the start of 2017\") #label for the x-axis\n",
    "plt.ylabel(\"Tag usage\") #label for the y-axis\n",
    "ax = plt.gca() # gets an instance of the current axes (so everything that is in black is an object)\n",
    "ax.set_facecolor('#FFFFFF') #colors the background of the object we created in the last line\n",
    "\n",
    "fig1, ax1 = plt.subplots()\n",
    "ax1.pie(category_association.values(), labels=category_association.keys(), autopct='%1.1f%%', startangle=90)\n",
    "ax1.axis('equal')\n",
    "plt.show()\n",
    "trending_videos[operation['tags'] == tag]"
   ]
  },
  {
   "cell_type": "markdown",
   "metadata": {},
   "source": [
    "### Top 100 most common tags used"
   ]
  },
  {
   "cell_type": "code",
   "execution_count": null,
   "metadata": {
    "jupyter": {
     "source_hidden": true
    }
   },
   "outputs": [],
   "source": [
    "tags_list = {}\n",
    "for i in range(0, len(trending_videos)):\n",
    "    for tag in trending_videos['tags'][i].replace('\"','').replace(\"[none]\",\"\").split('|'):\n",
    "        if(tag != \"\"):\n",
    "            if tag in tags_list:\n",
    "                tags_list[tag] += 1\n",
    "            else:\n",
    "                tags_list[tag] = 1\n",
    "data = []\n",
    "for key in tags_list:\n",
    "    value = tags_list[key]\n",
    "    data.append({'tag': key, 'uses': value})\n",
    "tags_df = pd.DataFrame(data)\n",
    "tags_df.set_index('tag', inplace=True)\n",
    "pd.set_option('display.max_rows', 1000000)\n",
    "tags_df.sort_values(['uses'], ascending=False).head(100)"
   ]
  },
  {
   "cell_type": "markdown",
   "metadata": {},
   "source": [
    "### Top channels by most trending videos"
   ]
  },
  {
   "cell_type": "code",
   "execution_count": null,
   "metadata": {
    "jupyter": {
     "source_hidden": true
    }
   },
   "outputs": [],
   "source": [
    "channels_list = {}\n",
    "for i in range(0, len(trending_videos)):\n",
    "    channel = trending_videos['channel_title'][i]\n",
    "    if(channel != \"\"):\n",
    "        if channel in channels_list:\n",
    "            channels_list[channel] += 1\n",
    "        else:\n",
    "            channels_list[channel] = 1\n",
    "data = []\n",
    "for key in channels_list:\n",
    "    value = channels_list[key]\n",
    "    data.append({'channel': key, 'videos': value})\n",
    "tags_df = pd.DataFrame(data)\n",
    "tags_df.set_index('channel', inplace=True)\n",
    "pd.set_option('display.max_rows', 1000000)\n",
    "tags_df.sort_values(['videos'], ascending=False).head(100)"
   ]
  },
  {
   "cell_type": "markdown",
   "metadata": {},
   "source": [
    "### Top categories by most trending videos"
   ]
  },
  {
   "cell_type": "code",
   "execution_count": null,
   "metadata": {
    "jupyter": {
     "source_hidden": true
    }
   },
   "outputs": [],
   "source": [
    "categories_list = {}\n",
    "for i in range(0, len(trending_videos)):\n",
    "    if trending_videos['category_id'][i] in categories_list:\n",
    "        categories_list[trending_videos['category_id'][i]] += 1\n",
    "    else:\n",
    "        categories_list[trending_videos['category_id'][i]] = 1\n",
    "\n",
    "data = []\n",
    "for key in categories_list:\n",
    "    value = categories_list[key]\n",
    "    data.append({'category': key, 'uses': value})\n",
    "tags_df = pd.DataFrame(data)\n",
    "tags_df.set_index('category', inplace=True)\n",
    "pd.set_option('display.max_rows', 1000000)\n",
    "tags_df.sort_values(['uses'], ascending=False)"
   ]
  },
  {
   "cell_type": "markdown",
   "metadata": {},
   "source": [
    "### Top categories by most trending videos (unique)"
   ]
  },
  {
   "cell_type": "code",
   "execution_count": null,
   "metadata": {
    "jupyter": {
     "source_hidden": true
    }
   },
   "outputs": [],
   "source": [
    "categories_list = {}\n",
    "videos = {}\n",
    "for i in range(0, len(trending_videos)):\n",
    "    if trending_videos.index[i] in videos:\n",
    "        continue\n",
    "    if trending_videos['category_id'][i] in categories_list:\n",
    "        categories_list[trending_videos['category_id'][i]] += 1\n",
    "    else:\n",
    "        categories_list[trending_videos['category_id'][i]] = 1\n",
    "    videos[trending_videos.index[i]] = True\n",
    "\n",
    "data = []\n",
    "for key in categories_list:\n",
    "    value = categories_list[key]\n",
    "    data.append({'category': key, 'uses': value})\n",
    "tags_df = pd.DataFrame(data)\n",
    "tags_df.set_index('category', inplace=True)\n",
    "pd.set_option('display.max_rows', 1000000)\n",
    "tags_df.sort_values(['uses'], ascending=False)"
   ]
  },
  {
   "cell_type": "markdown",
   "metadata": {},
   "source": [
    "### Average Trending Frequency of Each Video by Category"
   ]
  },
  {
   "cell_type": "code",
   "execution_count": null,
   "metadata": {
    "jupyter": {
     "source_hidden": true
    }
   },
   "outputs": [],
   "source": [
    "categories_list = {}\n",
    "unique_categories_list = {}\n",
    "videos = {}\n",
    "for i in range(0, len(trending_videos)):\n",
    "    if trending_videos.index[i] in videos:\n",
    "        categories_list[trending_videos['category_id'][i]] += 1\n",
    "    elif trending_videos['category_id'][i] in categories_list:\n",
    "        categories_list[trending_videos['category_id'][i]] += 1\n",
    "        unique_categories_list[trending_videos['category_id'][i]] += 1\n",
    "    else:\n",
    "        categories_list[trending_videos['category_id'][i]] = 1\n",
    "        unique_categories_list[trending_videos['category_id'][i]] = 1\n",
    "    videos[trending_videos.index[i]] = True\n",
    "\n",
    "data = []\n",
    "for key in categories_list:\n",
    "    value = round(categories_list[key] / unique_categories_list[key] * 100) / 100\n",
    "    data.append({'category': key, 'avg times a video from this category went trending': value})\n",
    "tags_df = pd.DataFrame(data)\n",
    "tags_df.set_index('category', inplace=True)\n",
    "pd.set_option('display.max_rows', 1000000)\n",
    "tags_df.sort_values(['avg times a video from this category went trending'], ascending=False)"
   ]
  },
  {
   "cell_type": "markdown",
   "metadata": {},
   "source": [
    "### Distribution of views in all trending videos"
   ]
  },
  {
   "cell_type": "code",
   "execution_count": null,
   "metadata": {
    "jupyter": {
     "source_hidden": true
    }
   },
   "outputs": [],
   "source": [
    "views = []\n",
    "for i in range(0, len(trending_videos)):\n",
    "    views.append(trending_videos['views'][i])\n",
    "plt.hist(views, bins = 500, color = '#ffff00', edgecolor = 'b') \n",
    "plt.xlabel(\"Views\")\n",
    "ax = plt.gca()\n",
    "ax.set_facecolor('#FFFFFF')"
   ]
  },
  {
   "cell_type": "markdown",
   "metadata": {},
   "source": [
    "### Likes, Dislikes, Views, and Comments Statistics by Category"
   ]
  },
  {
   "cell_type": "markdown",
   "metadata": {},
   "source": [
    "**Ordered by Like to Dislike ratio**"
   ]
  },
  {
   "cell_type": "code",
   "execution_count": null,
   "metadata": {
    "jupyter": {
     "source_hidden": true
    }
   },
   "outputs": [],
   "source": [
    "categories_views = {}\n",
    "categories_likes = {}\n",
    "categories_dislikes = {}\n",
    "categories_comments = {}\n",
    "unique_categories_list = {}\n",
    "videos = {}\n",
    "for i in range(0, len(trending_videos)):\n",
    "    if trending_videos.index[i] in videos:\n",
    "        continue\n",
    "    elif trending_videos['category_id'][i] in categories_likes:\n",
    "        categories_likes[trending_videos['category_id'][i]] += trending_videos['likes'][i]\n",
    "        categories_dislikes[trending_videos['category_id'][i]] += trending_videos['dislikes'][i]\n",
    "        categories_comments[trending_videos['category_id'][i]] += trending_videos['comment_count'][i]\n",
    "        categories_views[trending_videos['category_id'][i]] += trending_videos['views'][i]\n",
    "    else:\n",
    "        categories_likes[trending_videos['category_id'][i]] = trending_videos['likes'][i]\n",
    "        categories_dislikes[trending_videos['category_id'][i]] = trending_videos['dislikes'][i]\n",
    "        categories_comments[trending_videos['category_id'][i]] = trending_videos['comment_count'][i]\n",
    "        categories_views[trending_videos['category_id'][i]] = trending_videos['views'][i]\n",
    "    videos[trending_videos.index[i]] = True\n",
    "\n",
    "data = []\n",
    "for key in categories_likes:\n",
    "    likes = categories_likes[key]\n",
    "    dislikes = categories_dislikes[key]\n",
    "    comments = categories_comments[key]\n",
    "    views = categories_views[key]\n",
    "    view_like_ratio = round(views / likes * 100) / 100\n",
    "    view_comment_ratio = round(views / comments * 100) / 100\n",
    "    like_dislike_ratio = round(likes / dislikes * 100) / 100\n",
    "    like_comment_ratio = round(likes / comments * 100) / 100\n",
    "    data.append({'category': key, 'total views': views, 'total likes': likes, 'total dislikes': dislikes, 'comments': comments, 'view to like ratio': view_like_ratio, 'view to comment ratio': view_comment_ratio, 'like to dislike ratio': like_dislike_ratio, 'like to comment ratio': like_comment_ratio})\n",
    "tags_df = pd.DataFrame(data)\n",
    "tags_df.set_index('category', inplace=True)\n",
    "pd.set_option('display.max_rows', 1000000)\n",
    "tags_df.sort_values(['like to dislike ratio'], ascending=False)"
   ]
  },
  {
   "cell_type": "markdown",
   "metadata": {},
   "source": [
    "**Ordered by Like to Comment ratio**"
   ]
  },
  {
   "cell_type": "code",
   "execution_count": null,
   "metadata": {
    "jupyter": {
     "source_hidden": true
    }
   },
   "outputs": [],
   "source": [
    "tags_df.sort_values(['like to comment ratio'], ascending=False)"
   ]
  },
  {
   "cell_type": "markdown",
   "metadata": {},
   "source": [
    "**Ordered by Views to Likes ratio**"
   ]
  },
  {
   "cell_type": "code",
   "execution_count": null,
   "metadata": {
    "jupyter": {
     "source_hidden": true
    }
   },
   "outputs": [],
   "source": [
    "tags_df.sort_values(['view to like ratio'], ascending=False)"
   ]
  },
  {
   "cell_type": "markdown",
   "metadata": {},
   "source": [
    "**Ordered by Views to Comments ratio**"
   ]
  },
  {
   "cell_type": "code",
   "execution_count": null,
   "metadata": {
    "jupyter": {
     "source_hidden": true
    }
   },
   "outputs": [],
   "source": [
    "tags_df.sort_values(['view to comment ratio'], ascending=False)"
   ]
  },
  {
   "cell_type": "markdown",
   "metadata": {},
   "source": [
    "### Comparing two statistics of a Category with a Scatterplot"
   ]
  },
  {
   "cell_type": "code",
   "execution_count": null,
   "metadata": {
    "jupyter": {
     "source_hidden": true
    }
   },
   "outputs": [],
   "source": [
    "category_response = input(\"What category would you like to view the graph of?\")\n",
    "comparator1 = input(\"Comparator 1 (views/likes/dislikes/comment_count)?\")\n",
    "comparator2 = input(\"Comparator 2 (views/likes/dislikes/comment_count)?\")\n",
    "sample = trending_videos[trending_videos['category_id'] == category_response]\n",
    "sample_x = list(sample[comparator1])\n",
    "sample_y = list(sample[comparator2])\n",
    "scatterboi = plt.scatter(sample_x, sample_y) #creates a scatterplot object. The first parameter is the x-axis variable and the second parameter is the y-axis variable. \n",
    "plt.xlabel(category_response + \" \" + comparator1) #label for the x-axis\n",
    "plt.ylabel(category_response + \" \" + comparator2) #label for the y-axis\n",
    "plt.plot(np.unique(sample_x), np.poly1d(np.polyfit(sample_x, sample_y, 1))(np.unique(sample_x))) #draws a line of best fit from the data points\n",
    "ax = plt.gca() # gets an instance of the current axes (so everything that is in black is an object)\n",
    "ax.set_facecolor('#000000') #colors the background of the object we created in the last line"
   ]
  },
  {
   "cell_type": "code",
   "execution_count": null,
   "metadata": {},
   "outputs": [],
   "source": []
  }
 ],
 "metadata": {
  "kernelspec": {
   "display_name": "Python 3",
   "language": "python",
   "name": "python3"
  },
  "language_info": {
   "codemirror_mode": {
    "name": "ipython",
    "version": 3
   },
   "file_extension": ".py",
   "mimetype": "text/x-python",
   "name": "python",
   "nbconvert_exporter": "python",
   "pygments_lexer": "ipython3",
   "version": "3.8.5"
  }
 },
 "nbformat": 4,
 "nbformat_minor": 4
}
