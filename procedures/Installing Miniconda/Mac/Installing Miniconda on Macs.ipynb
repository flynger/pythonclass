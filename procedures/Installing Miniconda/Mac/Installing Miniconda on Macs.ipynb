{
 "cells": [
  {
   "cell_type": "markdown",
   "metadata": {},
   "source": [
    "# Installing Miniconda \n",
    "\n",
    "1. First, get the miniconda installer (Mac OS Python 3.7 64-bit bash version) from https://docs.conda.io/en/latest/miniconda.html\n",
    "\n",
    "2. After the installer is done downloading, it will be in the downloads tab in finder\n",
    "    - Follow the prompts on the installer screens.\n",
    "\n",
    "3. Open a terminal window *Applications -> Utilities -> Terminal*\n",
    "\n",
    "4. Change directories through the terminal to downloads or where you moved the installer to)\n",
    "```Python\n",
    "                cd Downloads\n",
    "```\n",
    "\n",
    "5. Run the bash sh file in terminal \n",
    "```Python\n",
    "                bash Miniconda3-latest-MacOSX-x86_64.sh\n",
    "```\n",
    "\n",
    "6. Type \"yes\" to accept all the terms and conditions\n",
    "\n",
    "7. Close and reopen the terminal to make sure conda has been setup\n",
    "    - Type \"conda list\" and if a list of packages appears, the installation has been done correctly"
   ]
  },
  {
   "cell_type": "markdown",
   "metadata": {},
   "source": [
    "# Using Terminal\n",
    "\n",
    "To create an environment\n",
    "    - conda create --name {environmentname}\n",
    "\n",
    "To activate an environment\n",
    "    - conda activate {environmentname}\n",
    "\n",
    "To change directories (into a subfolder):\n",
    "    - cd {foldername}\n",
    "\n",
    "To go one level up from the subfolder: \n",
    "    - cd ..\n",
    "\n",
    "To list the directories:\n",
    "    - ls\n",
    "\n",
    "To install python packages:\n",
    "    1. Activate the environment you want to install the packages in \n",
    "    2. conda install {packagename}\n",
    "\n",
    "To run jupyter:\n",
    "    - jupyter notebook\n"
   ]
  }
 ],
 "metadata": {
  "kernelspec": {
   "display_name": "Python 3",
   "language": "python",
   "name": "python3"
  },
  "language_info": {
   "codemirror_mode": {
    "name": "ipython",
    "version": 3
   },
   "file_extension": ".py",
   "mimetype": "text/x-python",
   "name": "python",
   "nbconvert_exporter": "python",
   "pygments_lexer": "ipython3",
   "version": "3.7.6"
  }
 },
 "nbformat": 4,
 "nbformat_minor": 2
}
