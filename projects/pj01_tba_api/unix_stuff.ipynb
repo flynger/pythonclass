{
 "cells": [
  {
   "cell_type": "markdown",
   "metadata": {},
   "source": [
    "[Table of Contents](../index.ipynb)"
   ]
  },
  {
   "cell_type": "markdown",
   "metadata": {},
   "source": [
    "# Project 1: Analyzing Blue Alliance Data with Python\n",
    "## Part 2: Creating Pandas Dataframes from JSON"
   ]
  },
  {
   "cell_type": "markdown",
   "metadata": {},
   "source": [
    "## I. Preparations\n",
    "1. Get a *Blue Alliance* API authorization key. See [See Instructions here](blue_alliance_api_key.ipynb).\n",
    "2. Review [session 07 on Hypertext Transfer Protocol](../sessions/s07_http/s07_http.ipynb)\n",
    "3. Review [Analyzing Blue Alliance Data with Pyton - Part 1](blue_allinace_part1.ipynb)\n",
    "4. Review [Analyzing Blue Alliance Data with Pyton - Part 2](blue_allinace_part2.ipynb)"
   ]
  },
  {
   "cell_type": "code",
   "execution_count": 2,
   "metadata": {},
   "outputs": [],
   "source": [
    "import datetime\n",
    "import json\n",
    "import pickle\n",
    "\n",
    "import pandas as pd"
   ]
  },
  {
   "cell_type": "markdown",
   "metadata": {},
   "source": [
    "## II. Creating a Simple Pandas Dataframe\n",
    "\n",
    "Hopefully, in part 2, you were able to retreive a list of FRC districts. To get things moving along, we'll load the districts JSON string from a text file, convert the string to a Python data structure, and display the first few districts."
   ]
  },
  {
   "cell_type": "code",
   "execution_count": 3,
   "metadata": {},
   "outputs": [
    {
     "data": {
      "text/plain": [
       "[{'abbreviation': 'chs',\n",
       "  'display_name': 'FIRST Chesapeake',\n",
       "  'key': '2020chs',\n",
       "  'year': 2020},\n",
       " {'abbreviation': 'fim',\n",
       "  'display_name': 'FIRST In Michigan',\n",
       "  'key': '2020fim',\n",
       "  'year': 2020},\n",
       " {'abbreviation': 'fma',\n",
       "  'display_name': 'FIRST Mid-Atlantic',\n",
       "  'key': '2020fma',\n",
       "  'year': 2020},\n",
       " {'abbreviation': 'fnc',\n",
       "  'display_name': 'FIRST North Carolina',\n",
       "  'key': '2020fnc',\n",
       "  'year': 2020}]"
      ]
     },
     "execution_count": 3,
     "metadata": {},
     "output_type": "execute_result"
    }
   ],
   "source": [
    "with open('districts.json', 'r') as j_file:\n",
    "    districts = json.load(j_file)\n",
    "districts[:4]"
   ]
  },
  {
   "cell_type": "markdown",
   "metadata": {},
   "source": [
    "The JSON string has been converted to a list of Python dictionaries, with each dictionary describing a single FRC district. Python data structures like this are very useful, but there is another kind of data structure that is even more powerful. Run the code cell below to convert the Python list to a Pandas dataframe."
   ]
  },
  {
   "cell_type": "code",
   "execution_count": 4,
   "metadata": {},
   "outputs": [
    {
     "data": {
      "text/html": [
       "<div>\n",
       "<style scoped>\n",
       "    .dataframe tbody tr th:only-of-type {\n",
       "        vertical-align: middle;\n",
       "    }\n",
       "\n",
       "    .dataframe tbody tr th {\n",
       "        vertical-align: top;\n",
       "    }\n",
       "\n",
       "    .dataframe thead th {\n",
       "        text-align: right;\n",
       "    }\n",
       "</style>\n",
       "<table border=\"1\" class=\"dataframe\">\n",
       "  <thead>\n",
       "    <tr style=\"text-align: right;\">\n",
       "      <th></th>\n",
       "      <th>abbreviation</th>\n",
       "      <th>display_name</th>\n",
       "      <th>key</th>\n",
       "      <th>year</th>\n",
       "    </tr>\n",
       "  </thead>\n",
       "  <tbody>\n",
       "    <tr>\n",
       "      <th>0</th>\n",
       "      <td>chs</td>\n",
       "      <td>FIRST Chesapeake</td>\n",
       "      <td>2020chs</td>\n",
       "      <td>2020</td>\n",
       "    </tr>\n",
       "    <tr>\n",
       "      <th>1</th>\n",
       "      <td>fim</td>\n",
       "      <td>FIRST In Michigan</td>\n",
       "      <td>2020fim</td>\n",
       "      <td>2020</td>\n",
       "    </tr>\n",
       "    <tr>\n",
       "      <th>2</th>\n",
       "      <td>fma</td>\n",
       "      <td>FIRST Mid-Atlantic</td>\n",
       "      <td>2020fma</td>\n",
       "      <td>2020</td>\n",
       "    </tr>\n",
       "    <tr>\n",
       "      <th>3</th>\n",
       "      <td>fnc</td>\n",
       "      <td>FIRST North Carolina</td>\n",
       "      <td>2020fnc</td>\n",
       "      <td>2020</td>\n",
       "    </tr>\n",
       "    <tr>\n",
       "      <th>4</th>\n",
       "      <td>in</td>\n",
       "      <td>Indiana FIRST</td>\n",
       "      <td>2020in</td>\n",
       "      <td>2020</td>\n",
       "    </tr>\n",
       "    <tr>\n",
       "      <th>5</th>\n",
       "      <td>isr</td>\n",
       "      <td>FIRST Israel</td>\n",
       "      <td>2020isr</td>\n",
       "      <td>2020</td>\n",
       "    </tr>\n",
       "    <tr>\n",
       "      <th>6</th>\n",
       "      <td>ne</td>\n",
       "      <td>New England</td>\n",
       "      <td>2020ne</td>\n",
       "      <td>2020</td>\n",
       "    </tr>\n",
       "    <tr>\n",
       "      <th>7</th>\n",
       "      <td>ont</td>\n",
       "      <td>Ontario</td>\n",
       "      <td>2020ont</td>\n",
       "      <td>2020</td>\n",
       "    </tr>\n",
       "    <tr>\n",
       "      <th>8</th>\n",
       "      <td>pch</td>\n",
       "      <td>Peachtree</td>\n",
       "      <td>2020pch</td>\n",
       "      <td>2020</td>\n",
       "    </tr>\n",
       "    <tr>\n",
       "      <th>9</th>\n",
       "      <td>pnw</td>\n",
       "      <td>Pacific Northwest</td>\n",
       "      <td>2020pnw</td>\n",
       "      <td>2020</td>\n",
       "    </tr>\n",
       "    <tr>\n",
       "      <th>10</th>\n",
       "      <td>tx</td>\n",
       "      <td>FIRST In Texas</td>\n",
       "      <td>2020tx</td>\n",
       "      <td>2020</td>\n",
       "    </tr>\n",
       "  </tbody>\n",
       "</table>\n",
       "</div>"
      ],
      "text/plain": [
       "   abbreviation          display_name      key  year\n",
       "0           chs      FIRST Chesapeake  2020chs  2020\n",
       "1           fim     FIRST In Michigan  2020fim  2020\n",
       "2           fma    FIRST Mid-Atlantic  2020fma  2020\n",
       "3           fnc  FIRST North Carolina  2020fnc  2020\n",
       "4            in         Indiana FIRST   2020in  2020\n",
       "5           isr          FIRST Israel  2020isr  2020\n",
       "6            ne           New England   2020ne  2020\n",
       "7           ont               Ontario  2020ont  2020\n",
       "8           pch             Peachtree  2020pch  2020\n",
       "9           pnw     Pacific Northwest  2020pnw  2020\n",
       "10           tx        FIRST In Texas   2020tx  2020"
      ]
     },
     "execution_count": 4,
     "metadata": {},
     "output_type": "execute_result"
    }
   ],
   "source": [
    "districts_df = pd.DataFrame(districts)\n",
    "districts_df"
   ]
  },
  {
   "cell_type": "markdown",
   "metadata": {},
   "source": [
    "That's much easier to read. [Pandas](https://pandas.pydata.org/pandas-docs/stable/) is a Python package that provides three different data structures. `Series` are one-dimensional and are similar to lists or arrays. `DataFrames` are two-dimensional and are similar to a table in a database or Excel spreadsheet, and `Panels` are three-dimensional data structures. We will not use `Panels` in this course, just `Dataframes` and `Series`.\n",
    "\n",
    "Compare the Python list to the data frame. Each dictionary corresponds to a row in the dataframe, and each key in the dictionary corresponds to a column.\n",
    "\n",
    "#### Dataframe Terminology\n",
    "Dataframes are available in many languages. While they are most commonly encounted in languages used for statistical analysis and data science, such as R, Python, and Julia, there are packages for working with dataframes in other languages, including Java, Ruby and C++.\n",
    "\n",
    "A `DataFrame` is an class provided by the Python Pandas package, and is the specific implementation of a dataframe data type that is provided by Pandas. This guide will use the term *dataframe* when speaking of general dataframe concepts that apply in any programming language. The term `DataFrame`, with capitalization that matches the Pandas constructor for a data frame object, is used to refer to the specific Pandas implementation of a dataframe."
   ]
  },
  {
   "cell_type": "markdown",
   "metadata": {},
   "source": [
    "## III. Basic DataFrame Operations\n",
    "I recommend you read through as much of the [Pandas Gettng Started Guide](https://pandas.pydata.org/pandas-docs/stable/getting_started/index.html#getting-started) as you can stand. There are also several good Pandas cheatsheets available. [Try this one first](https://www.datacamp.com/community/blog/python-pandas-cheat-sheet)."
   ]
  },
  {
   "cell_type": "code",
   "execution_count": 5,
   "metadata": {},
   "outputs": [
    {
     "data": {
      "text/plain": [
       "0     chs\n",
       "1     fim\n",
       "2     fma\n",
       "3     fnc\n",
       "4      in\n",
       "5     isr\n",
       "6      ne\n",
       "7     ont\n",
       "8     pch\n",
       "9     pnw\n",
       "10     tx\n",
       "Name: abbreviation, dtype: object"
      ]
     },
     "execution_count": 5,
     "metadata": {},
     "output_type": "execute_result"
    }
   ],
   "source": [
    "# Extract a single column.\n",
    "# This syntax returns a Pandas Series object.\n",
    "districts_df[\"abbreviation\"]"
   ]
  },
  {
   "cell_type": "code",
   "execution_count": 6,
   "metadata": {},
   "outputs": [
    {
     "data": {
      "text/html": [
       "<div>\n",
       "<style scoped>\n",
       "    .dataframe tbody tr th:only-of-type {\n",
       "        vertical-align: middle;\n",
       "    }\n",
       "\n",
       "    .dataframe tbody tr th {\n",
       "        vertical-align: top;\n",
       "    }\n",
       "\n",
       "    .dataframe thead th {\n",
       "        text-align: right;\n",
       "    }\n",
       "</style>\n",
       "<table border=\"1\" class=\"dataframe\">\n",
       "  <thead>\n",
       "    <tr style=\"text-align: right;\">\n",
       "      <th></th>\n",
       "      <th>abbreviation</th>\n",
       "      <th>display_name</th>\n",
       "      <th>key</th>\n",
       "      <th>year</th>\n",
       "    </tr>\n",
       "  </thead>\n",
       "  <tbody>\n",
       "    <tr>\n",
       "      <th>0</th>\n",
       "      <td>chs</td>\n",
       "      <td>FIRST Chesapeake</td>\n",
       "      <td>2020chs</td>\n",
       "      <td>2020</td>\n",
       "    </tr>\n",
       "    <tr>\n",
       "      <th>1</th>\n",
       "      <td>fim</td>\n",
       "      <td>FIRST In Michigan</td>\n",
       "      <td>2020fim</td>\n",
       "      <td>2020</td>\n",
       "    </tr>\n",
       "    <tr>\n",
       "      <th>2</th>\n",
       "      <td>fma</td>\n",
       "      <td>FIRST Mid-Atlantic</td>\n",
       "      <td>2020fma</td>\n",
       "      <td>2020</td>\n",
       "    </tr>\n",
       "  </tbody>\n",
       "</table>\n",
       "</div>"
      ],
      "text/plain": [
       "  abbreviation        display_name      key  year\n",
       "0          chs    FIRST Chesapeake  2020chs  2020\n",
       "1          fim   FIRST In Michigan  2020fim  2020\n",
       "2          fma  FIRST Mid-Atlantic  2020fma  2020"
      ]
     },
     "execution_count": 6,
     "metadata": {},
     "output_type": "execute_result"
    }
   ],
   "source": [
    "# Display only the first few rows\n",
    "districts_df.head(3)"
   ]
  },
  {
   "cell_type": "code",
   "execution_count": 7,
   "metadata": {},
   "outputs": [
    {
     "data": {
      "text/html": [
       "<div>\n",
       "<style scoped>\n",
       "    .dataframe tbody tr th:only-of-type {\n",
       "        vertical-align: middle;\n",
       "    }\n",
       "\n",
       "    .dataframe tbody tr th {\n",
       "        vertical-align: top;\n",
       "    }\n",
       "\n",
       "    .dataframe thead th {\n",
       "        text-align: right;\n",
       "    }\n",
       "</style>\n",
       "<table border=\"1\" class=\"dataframe\">\n",
       "  <thead>\n",
       "    <tr style=\"text-align: right;\">\n",
       "      <th></th>\n",
       "      <th>abbreviation</th>\n",
       "      <th>display_name</th>\n",
       "      <th>key</th>\n",
       "      <th>year</th>\n",
       "    </tr>\n",
       "  </thead>\n",
       "  <tbody>\n",
       "    <tr>\n",
       "      <th>6</th>\n",
       "      <td>ne</td>\n",
       "      <td>New England</td>\n",
       "      <td>2020ne</td>\n",
       "      <td>2020</td>\n",
       "    </tr>\n",
       "    <tr>\n",
       "      <th>7</th>\n",
       "      <td>ont</td>\n",
       "      <td>Ontario</td>\n",
       "      <td>2020ont</td>\n",
       "      <td>2020</td>\n",
       "    </tr>\n",
       "    <tr>\n",
       "      <th>8</th>\n",
       "      <td>pch</td>\n",
       "      <td>Peachtree</td>\n",
       "      <td>2020pch</td>\n",
       "      <td>2020</td>\n",
       "    </tr>\n",
       "    <tr>\n",
       "      <th>9</th>\n",
       "      <td>pnw</td>\n",
       "      <td>Pacific Northwest</td>\n",
       "      <td>2020pnw</td>\n",
       "      <td>2020</td>\n",
       "    </tr>\n",
       "    <tr>\n",
       "      <th>10</th>\n",
       "      <td>tx</td>\n",
       "      <td>FIRST In Texas</td>\n",
       "      <td>2020tx</td>\n",
       "      <td>2020</td>\n",
       "    </tr>\n",
       "  </tbody>\n",
       "</table>\n",
       "</div>"
      ],
      "text/plain": [
       "   abbreviation       display_name      key  year\n",
       "6            ne        New England   2020ne  2020\n",
       "7           ont            Ontario  2020ont  2020\n",
       "8           pch          Peachtree  2020pch  2020\n",
       "9           pnw  Pacific Northwest  2020pnw  2020\n",
       "10           tx     FIRST In Texas   2020tx  2020"
      ]
     },
     "execution_count": 7,
     "metadata": {},
     "output_type": "execute_result"
    }
   ],
   "source": [
    "# Display only the last few rows\n",
    "districts_df.tail()"
   ]
  },
  {
   "cell_type": "code",
   "execution_count": 8,
   "metadata": {},
   "outputs": [
    {
     "data": {
      "text/html": [
       "<div>\n",
       "<style scoped>\n",
       "    .dataframe tbody tr th:only-of-type {\n",
       "        vertical-align: middle;\n",
       "    }\n",
       "\n",
       "    .dataframe tbody tr th {\n",
       "        vertical-align: top;\n",
       "    }\n",
       "\n",
       "    .dataframe thead th {\n",
       "        text-align: right;\n",
       "    }\n",
       "</style>\n",
       "<table border=\"1\" class=\"dataframe\">\n",
       "  <thead>\n",
       "    <tr style=\"text-align: right;\">\n",
       "      <th></th>\n",
       "      <th>key</th>\n",
       "      <th>display_name</th>\n",
       "    </tr>\n",
       "  </thead>\n",
       "  <tbody>\n",
       "    <tr>\n",
       "      <th>0</th>\n",
       "      <td>2020chs</td>\n",
       "      <td>FIRST Chesapeake</td>\n",
       "    </tr>\n",
       "    <tr>\n",
       "      <th>1</th>\n",
       "      <td>2020fim</td>\n",
       "      <td>FIRST In Michigan</td>\n",
       "    </tr>\n",
       "    <tr>\n",
       "      <th>2</th>\n",
       "      <td>2020fma</td>\n",
       "      <td>FIRST Mid-Atlantic</td>\n",
       "    </tr>\n",
       "    <tr>\n",
       "      <th>3</th>\n",
       "      <td>2020fnc</td>\n",
       "      <td>FIRST North Carolina</td>\n",
       "    </tr>\n",
       "    <tr>\n",
       "      <th>4</th>\n",
       "      <td>2020in</td>\n",
       "      <td>Indiana FIRST</td>\n",
       "    </tr>\n",
       "  </tbody>\n",
       "</table>\n",
       "</div>"
      ],
      "text/plain": [
       "       key          display_name\n",
       "0  2020chs      FIRST Chesapeake\n",
       "1  2020fim     FIRST In Michigan\n",
       "2  2020fma    FIRST Mid-Atlantic\n",
       "3  2020fnc  FIRST North Carolina\n",
       "4   2020in         Indiana FIRST"
      ]
     },
     "execution_count": 8,
     "metadata": {},
     "output_type": "execute_result"
    }
   ],
   "source": [
    "# Display a subset of columns, in a different order\n",
    "districts_df[[\"key\", \"display_name\"]].head()"
   ]
  },
  {
   "cell_type": "code",
   "execution_count": 9,
   "metadata": {},
   "outputs": [
    {
     "data": {
      "text/plain": [
       "'2020fnc'"
      ]
     },
     "execution_count": 9,
     "metadata": {},
     "output_type": "execute_result"
    }
   ],
   "source": [
    "# Extract an element by integer location\n",
    "# Locations indices start at zero.\n",
    "districts_df.iloc[3, 2]"
   ]
  },
  {
   "cell_type": "code",
   "execution_count": 10,
   "metadata": {},
   "outputs": [
    {
     "data": {
      "text/html": [
       "<div>\n",
       "<style scoped>\n",
       "    .dataframe tbody tr th:only-of-type {\n",
       "        vertical-align: middle;\n",
       "    }\n",
       "\n",
       "    .dataframe tbody tr th {\n",
       "        vertical-align: top;\n",
       "    }\n",
       "\n",
       "    .dataframe thead th {\n",
       "        text-align: right;\n",
       "    }\n",
       "</style>\n",
       "<table border=\"1\" class=\"dataframe\">\n",
       "  <thead>\n",
       "    <tr style=\"text-align: right;\">\n",
       "      <th></th>\n",
       "      <th>abbreviation</th>\n",
       "      <th>display_name</th>\n",
       "      <th>key</th>\n",
       "      <th>year</th>\n",
       "    </tr>\n",
       "  </thead>\n",
       "  <tbody>\n",
       "    <tr>\n",
       "      <th>8</th>\n",
       "      <td>pch</td>\n",
       "      <td>Peachtree</td>\n",
       "      <td>2020pch</td>\n",
       "      <td>2020</td>\n",
       "    </tr>\n",
       "    <tr>\n",
       "      <th>9</th>\n",
       "      <td>pnw</td>\n",
       "      <td>Pacific Northwest</td>\n",
       "      <td>2020pnw</td>\n",
       "      <td>2020</td>\n",
       "    </tr>\n",
       "    <tr>\n",
       "      <th>7</th>\n",
       "      <td>ont</td>\n",
       "      <td>Ontario</td>\n",
       "      <td>2020ont</td>\n",
       "      <td>2020</td>\n",
       "    </tr>\n",
       "    <tr>\n",
       "      <th>6</th>\n",
       "      <td>ne</td>\n",
       "      <td>New England</td>\n",
       "      <td>2020ne</td>\n",
       "      <td>2020</td>\n",
       "    </tr>\n",
       "    <tr>\n",
       "      <th>4</th>\n",
       "      <td>in</td>\n",
       "      <td>Indiana FIRST</td>\n",
       "      <td>2020in</td>\n",
       "      <td>2020</td>\n",
       "    </tr>\n",
       "    <tr>\n",
       "      <th>3</th>\n",
       "      <td>fnc</td>\n",
       "      <td>FIRST North Carolina</td>\n",
       "      <td>2020fnc</td>\n",
       "      <td>2020</td>\n",
       "    </tr>\n",
       "    <tr>\n",
       "      <th>2</th>\n",
       "      <td>fma</td>\n",
       "      <td>FIRST Mid-Atlantic</td>\n",
       "      <td>2020fma</td>\n",
       "      <td>2020</td>\n",
       "    </tr>\n",
       "    <tr>\n",
       "      <th>5</th>\n",
       "      <td>isr</td>\n",
       "      <td>FIRST Israel</td>\n",
       "      <td>2020isr</td>\n",
       "      <td>2020</td>\n",
       "    </tr>\n",
       "    <tr>\n",
       "      <th>10</th>\n",
       "      <td>tx</td>\n",
       "      <td>FIRST In Texas</td>\n",
       "      <td>2020tx</td>\n",
       "      <td>2020</td>\n",
       "    </tr>\n",
       "    <tr>\n",
       "      <th>1</th>\n",
       "      <td>fim</td>\n",
       "      <td>FIRST In Michigan</td>\n",
       "      <td>2020fim</td>\n",
       "      <td>2020</td>\n",
       "    </tr>\n",
       "    <tr>\n",
       "      <th>0</th>\n",
       "      <td>chs</td>\n",
       "      <td>FIRST Chesapeake</td>\n",
       "      <td>2020chs</td>\n",
       "      <td>2020</td>\n",
       "    </tr>\n",
       "  </tbody>\n",
       "</table>\n",
       "</div>"
      ],
      "text/plain": [
       "   abbreviation          display_name      key  year\n",
       "8           pch             Peachtree  2020pch  2020\n",
       "9           pnw     Pacific Northwest  2020pnw  2020\n",
       "7           ont               Ontario  2020ont  2020\n",
       "6            ne           New England   2020ne  2020\n",
       "4            in         Indiana FIRST   2020in  2020\n",
       "3           fnc  FIRST North Carolina  2020fnc  2020\n",
       "2           fma    FIRST Mid-Atlantic  2020fma  2020\n",
       "5           isr          FIRST Israel  2020isr  2020\n",
       "10           tx        FIRST In Texas   2020tx  2020\n",
       "1           fim     FIRST In Michigan  2020fim  2020\n",
       "0           chs      FIRST Chesapeake  2020chs  2020"
      ]
     },
     "execution_count": 10,
     "metadata": {},
     "output_type": "execute_result"
    }
   ],
   "source": [
    "# Sort by specific column in reverse order\n",
    "districts_df.sort_values(\"display_name\", ascending=False)"
   ]
  },
  {
   "cell_type": "markdown",
   "metadata": {},
   "source": [
    "This is just the tip of the iceberg of what Pandas can do. Actually, it's just the tip of the tip of the iceberg.\n",
    "\n"
   ]
  },
  {
   "cell_type": "markdown",
   "metadata": {},
   "source": [
    "## IV. Nested vs. Flat Data\n",
    "To be able to manipulate data in a sophisticated manner, we must be able to think and talk about data in a sophisticated manner. This section intoduces a few terms that are useful for describing data.\n",
    "\n",
    "First, run the cell below to take a look at some match data that was retrieved from TBA-API."
   ]
  },
  {
   "cell_type": "code",
   "execution_count": 21,
   "metadata": {},
   "outputs": [
    {
     "data": {
      "text/plain": [
       "[{'actual_time': 1583104716,\n",
       "  'alliances': {'blue': {'dq_team_keys': [],\n",
       "    'score': 136,\n",
       "    'surrogate_team_keys': [],\n",
       "    'team_keys': ['frc2930', 'frc2976', 'frc4918']},\n",
       "   'red': {'dq_team_keys': [],\n",
       "    'score': 148,\n",
       "    'surrogate_team_keys': [],\n",
       "    'team_keys': ['frc4911', 'frc2910', 'frc4173']}},\n",
       "  'comp_level': 'f',\n",
       "  'event_key': '2020wasno',\n",
       "  'key': '2020wasno_f1m1',\n",
       "  'match_number': 1,\n",
       "  'post_result_time': 1583105046,\n",
       "  'predicted_time': 1583104822,\n",
       "  'score_breakdown': {'blue': {'adjustPoints': 0,\n",
       "    'autoCellPoints': 40,\n",
       "    'autoCellsBottom': 0,\n",
       "    'autoCellsInner': 2,\n",
       "    'autoCellsOuter': 7,\n",
       "    'autoInitLinePoints': 15,\n",
       "    'autoPoints': 55,\n",
       "    'controlPanelPoints': 0,\n",
       "    'endgamePoints': 55,\n",
       "    'endgameRobot1': 'Hang',\n",
       "    'endgameRobot2': 'Hang',\n",
       "    'endgameRobot3': 'Park',\n",
       "    'endgameRungIsLevel': 'NotLevel',\n",
       "    'foulCount': 0,\n",
       "    'foulPoints': 0,\n",
       "    'initLineRobot1': 'Exited',\n",
       "    'initLineRobot2': 'Exited',\n",
       "    'initLineRobot3': 'Exited',\n",
       "    'rp': 0,\n",
       "    'shieldEnergizedRankingPoint': False,\n",
       "    'shieldOperationalRankingPoint': False,\n",
       "    'stage1Activated': True,\n",
       "    'stage2Activated': False,\n",
       "    'stage3Activated': False,\n",
       "    'stage3TargetColor': 'Unknown',\n",
       "    'tba_numRobotsHanging': 2,\n",
       "    'tba_shieldEnergizedRankingPointFromFoul': False,\n",
       "    'techFoulCount': 0,\n",
       "    'teleopCellPoints': 26,\n",
       "    'teleopCellsBottom': 0,\n",
       "    'teleopCellsInner': 0,\n",
       "    'teleopCellsOuter': 13,\n",
       "    'teleopPoints': 81,\n",
       "    'totalPoints': 136},\n",
       "   'red': {'adjustPoints': 0,\n",
       "    'autoCellPoints': 32,\n",
       "    'autoCellsBottom': 0,\n",
       "    'autoCellsInner': 0,\n",
       "    'autoCellsOuter': 8,\n",
       "    'autoInitLinePoints': 15,\n",
       "    'autoPoints': 47,\n",
       "    'controlPanelPoints': 0,\n",
       "    'endgamePoints': 45,\n",
       "    'endgameRobot1': 'Park',\n",
       "    'endgameRobot2': 'Hang',\n",
       "    'endgameRobot3': 'None',\n",
       "    'endgameRungIsLevel': 'IsLevel',\n",
       "    'foulCount': 0,\n",
       "    'foulPoints': 0,\n",
       "    'initLineRobot1': 'Exited',\n",
       "    'initLineRobot2': 'Exited',\n",
       "    'initLineRobot3': 'Exited',\n",
       "    'rp': 0,\n",
       "    'shieldEnergizedRankingPoint': False,\n",
       "    'shieldOperationalRankingPoint': False,\n",
       "    'stage1Activated': True,\n",
       "    'stage2Activated': False,\n",
       "    'stage3Activated': False,\n",
       "    'stage3TargetColor': 'Unknown',\n",
       "    'tba_numRobotsHanging': 1,\n",
       "    'tba_shieldEnergizedRankingPointFromFoul': False,\n",
       "    'techFoulCount': 0,\n",
       "    'teleopCellPoints': 56,\n",
       "    'teleopCellsBottom': 0,\n",
       "    'teleopCellsInner': 4,\n",
       "    'teleopCellsOuter': 22,\n",
       "    'teleopPoints': 101,\n",
       "    'totalPoints': 148}},\n",
       "  'set_number': 1,\n",
       "  'time': 1583103960,\n",
       "  'videos': [{'key': 'QiegqWDKHOQ', 'type': 'youtube'},\n",
       "   {'key': 'tijqefvzxIs', 'type': 'youtube'},\n",
       "   {'key': '26XinRoNxf8', 'type': 'youtube'}],\n",
       "  'winning_alliance': 'red'},\n",
       " {'actual_time': 1583106972,\n",
       "  'alliances': {'blue': {'dq_team_keys': [],\n",
       "    'score': 137,\n",
       "    'surrogate_team_keys': [],\n",
       "    'team_keys': ['frc2930', 'frc2976', 'frc4918']},\n",
       "   'red': {'dq_team_keys': [],\n",
       "    'score': 163,\n",
       "    'surrogate_team_keys': [],\n",
       "    'team_keys': ['frc4911', 'frc2910', 'frc4173']}},\n",
       "  'comp_level': 'f',\n",
       "  'event_key': '2020wasno',\n",
       "  'key': '2020wasno_f1m2',\n",
       "  'match_number': 2,\n",
       "  'post_result_time': 1583107173,\n",
       "  'predicted_time': 1583107040,\n",
       "  'score_breakdown': {'blue': {'adjustPoints': 0,\n",
       "    'autoCellPoints': 38,\n",
       "    'autoCellsBottom': 0,\n",
       "    'autoCellsInner': 1,\n",
       "    'autoCellsOuter': 8,\n",
       "    'autoInitLinePoints': 15,\n",
       "    'autoPoints': 53,\n",
       "    'controlPanelPoints': 0,\n",
       "    'endgamePoints': 50,\n",
       "    'endgameRobot1': 'None',\n",
       "    'endgameRobot2': 'Hang',\n",
       "    'endgameRobot3': 'Hang',\n",
       "    'endgameRungIsLevel': 'NotLevel',\n",
       "    'foulCount': 0,\n",
       "    'foulPoints': 0,\n",
       "    'initLineRobot1': 'Exited',\n",
       "    'initLineRobot2': 'Exited',\n",
       "    'initLineRobot3': 'Exited',\n",
       "    'rp': 0,\n",
       "    'shieldEnergizedRankingPoint': False,\n",
       "    'shieldOperationalRankingPoint': False,\n",
       "    'stage1Activated': True,\n",
       "    'stage2Activated': False,\n",
       "    'stage3Activated': False,\n",
       "    'stage3TargetColor': 'Unknown',\n",
       "    'tba_numRobotsHanging': 2,\n",
       "    'tba_shieldEnergizedRankingPointFromFoul': False,\n",
       "    'techFoulCount': 3,\n",
       "    'teleopCellPoints': 34,\n",
       "    'teleopCellsBottom': 0,\n",
       "    'teleopCellsInner': 0,\n",
       "    'teleopCellsOuter': 17,\n",
       "    'teleopPoints': 84,\n",
       "    'totalPoints': 137},\n",
       "   'red': {'adjustPoints': 0,\n",
       "    'autoCellPoints': 20,\n",
       "    'autoCellsBottom': 0,\n",
       "    'autoCellsInner': 0,\n",
       "    'autoCellsOuter': 5,\n",
       "    'autoInitLinePoints': 15,\n",
       "    'autoPoints': 35,\n",
       "    'controlPanelPoints': 0,\n",
       "    'endgamePoints': 40,\n",
       "    'endgameRobot1': 'None',\n",
       "    'endgameRobot2': 'Hang',\n",
       "    'endgameRobot3': 'None',\n",
       "    'endgameRungIsLevel': 'IsLevel',\n",
       "    'foulCount': 0,\n",
       "    'foulPoints': 45,\n",
       "    'initLineRobot1': 'Exited',\n",
       "    'initLineRobot2': 'Exited',\n",
       "    'initLineRobot3': 'Exited',\n",
       "    'rp': 0,\n",
       "    'shieldEnergizedRankingPoint': False,\n",
       "    'shieldOperationalRankingPoint': False,\n",
       "    'stage1Activated': True,\n",
       "    'stage2Activated': False,\n",
       "    'stage3Activated': False,\n",
       "    'stage3TargetColor': 'Unknown',\n",
       "    'tba_numRobotsHanging': 1,\n",
       "    'tba_shieldEnergizedRankingPointFromFoul': False,\n",
       "    'techFoulCount': 0,\n",
       "    'teleopCellPoints': 43,\n",
       "    'teleopCellsBottom': 0,\n",
       "    'teleopCellsInner': 3,\n",
       "    'teleopCellsOuter': 17,\n",
       "    'teleopPoints': 83,\n",
       "    'totalPoints': 163}},\n",
       "  'set_number': 1,\n",
       "  'time': 1583104380,\n",
       "  'videos': [{'key': '8UWIqYfIj_Q', 'type': 'youtube'},\n",
       "   {'key': 'lQdwow-OjpU', 'type': 'youtube'}],\n",
       "  'winning_alliance': 'red'}]"
      ]
     },
     "execution_count": 21,
     "metadata": {},
     "output_type": "execute_result"
    }
   ],
   "source": [
    "with open('matches.json', 'r') as j_file:\n",
    "    matches = json.load(j_file)\n",
    "matches[0:2]    "
   ]
  },
  {
   "cell_type": "markdown",
   "metadata": {},
   "source": [
    "As you can see, the JSON data includes a long list of dictionary objects, with each dictionary containing extensive data on each match. We used a slice object, `0:2` to limit the output to only the first two matches."
   ]
  },
  {
   "cell_type": "markdown",
   "metadata": {},
   "source": [
    "Run the cell below to create a `DataFrame` from this data and view a few of the columns."
   ]
  },
  {
   "cell_type": "code",
   "execution_count": 13,
   "metadata": {},
   "outputs": [
    {
     "data": {
      "text/html": [
       "<div>\n",
       "<style scoped>\n",
       "    .dataframe tbody tr th:only-of-type {\n",
       "        vertical-align: middle;\n",
       "    }\n",
       "\n",
       "    .dataframe tbody tr th {\n",
       "        vertical-align: top;\n",
       "    }\n",
       "\n",
       "    .dataframe thead th {\n",
       "        text-align: right;\n",
       "    }\n",
       "</style>\n",
       "<table border=\"1\" class=\"dataframe\">\n",
       "  <thead>\n",
       "    <tr style=\"text-align: right;\">\n",
       "      <th></th>\n",
       "      <th>actual_time</th>\n",
       "      <th>alliances</th>\n",
       "      <th>key</th>\n",
       "      <th>match_number</th>\n",
       "      <th>score_breakdown</th>\n",
       "    </tr>\n",
       "  </thead>\n",
       "  <tbody>\n",
       "    <tr>\n",
       "      <th>0</th>\n",
       "      <td>1583104716</td>\n",
       "      <td>{'blue': {'dq_team_keys': [], 'score': 136, 's...</td>\n",
       "      <td>2020wasno_f1m1</td>\n",
       "      <td>1</td>\n",
       "      <td>{'blue': {'adjustPoints': 0, 'autoCellPoints':...</td>\n",
       "    </tr>\n",
       "    <tr>\n",
       "      <th>1</th>\n",
       "      <td>1583106972</td>\n",
       "      <td>{'blue': {'dq_team_keys': [], 'score': 137, 's...</td>\n",
       "      <td>2020wasno_f1m2</td>\n",
       "      <td>2</td>\n",
       "      <td>{'blue': {'adjustPoints': 0, 'autoCellPoints':...</td>\n",
       "    </tr>\n",
       "    <tr>\n",
       "      <th>2</th>\n",
       "      <td>1583096632</td>\n",
       "      <td>{'blue': {'dq_team_keys': [], 'score': 122, 's...</td>\n",
       "      <td>2020wasno_qf1m1</td>\n",
       "      <td>1</td>\n",
       "      <td>{'blue': {'adjustPoints': 0, 'autoCellPoints':...</td>\n",
       "    </tr>\n",
       "    <tr>\n",
       "      <th>3</th>\n",
       "      <td>1583098723</td>\n",
       "      <td>{'blue': {'dq_team_keys': [], 'score': 95, 'su...</td>\n",
       "      <td>2020wasno_qf1m2</td>\n",
       "      <td>2</td>\n",
       "      <td>{'blue': {'adjustPoints': 0, 'autoCellPoints':...</td>\n",
       "    </tr>\n",
       "    <tr>\n",
       "      <th>4</th>\n",
       "      <td>1583097215</td>\n",
       "      <td>{'blue': {'dq_team_keys': [], 'score': 134, 's...</td>\n",
       "      <td>2020wasno_qf2m1</td>\n",
       "      <td>1</td>\n",
       "      <td>{'blue': {'adjustPoints': 0, 'autoCellPoints':...</td>\n",
       "    </tr>\n",
       "    <tr>\n",
       "      <th>...</th>\n",
       "      <td>...</td>\n",
       "      <td>...</td>\n",
       "      <td>...</td>\n",
       "      <td>...</td>\n",
       "      <td>...</td>\n",
       "    </tr>\n",
       "    <tr>\n",
       "      <th>84</th>\n",
       "      <td>1583008167</td>\n",
       "      <td>{'blue': {'dq_team_keys': [], 'score': 64, 'su...</td>\n",
       "      <td>2020wasno_qm9</td>\n",
       "      <td>9</td>\n",
       "      <td>{'blue': {'adjustPoints': 0, 'autoCellPoints':...</td>\n",
       "    </tr>\n",
       "    <tr>\n",
       "      <th>85</th>\n",
       "      <td>1583101803</td>\n",
       "      <td>{'blue': {'dq_team_keys': [], 'score': 139, 's...</td>\n",
       "      <td>2020wasno_sf1m1</td>\n",
       "      <td>1</td>\n",
       "      <td>{'blue': {'adjustPoints': 0, 'autoCellPoints':...</td>\n",
       "    </tr>\n",
       "    <tr>\n",
       "      <th>86</th>\n",
       "      <td>1583102858</td>\n",
       "      <td>{'blue': {'dq_team_keys': [], 'score': 94, 'su...</td>\n",
       "      <td>2020wasno_sf1m2</td>\n",
       "      <td>2</td>\n",
       "      <td>{'blue': {'adjustPoints': 0, 'autoCellPoints':...</td>\n",
       "    </tr>\n",
       "    <tr>\n",
       "      <th>87</th>\n",
       "      <td>1583102423</td>\n",
       "      <td>{'blue': {'dq_team_keys': [], 'score': 147, 's...</td>\n",
       "      <td>2020wasno_sf2m1</td>\n",
       "      <td>1</td>\n",
       "      <td>{'blue': {'adjustPoints': 0, 'autoCellPoints':...</td>\n",
       "    </tr>\n",
       "    <tr>\n",
       "      <th>88</th>\n",
       "      <td>1583103375</td>\n",
       "      <td>{'blue': {'dq_team_keys': [], 'score': 158, 's...</td>\n",
       "      <td>2020wasno_sf2m2</td>\n",
       "      <td>2</td>\n",
       "      <td>{'blue': {'adjustPoints': 0, 'autoCellPoints':...</td>\n",
       "    </tr>\n",
       "  </tbody>\n",
       "</table>\n",
       "<p>89 rows × 5 columns</p>\n",
       "</div>"
      ],
      "text/plain": [
       "    actual_time                                          alliances  \\\n",
       "0    1583104716  {'blue': {'dq_team_keys': [], 'score': 136, 's...   \n",
       "1    1583106972  {'blue': {'dq_team_keys': [], 'score': 137, 's...   \n",
       "2    1583096632  {'blue': {'dq_team_keys': [], 'score': 122, 's...   \n",
       "3    1583098723  {'blue': {'dq_team_keys': [], 'score': 95, 'su...   \n",
       "4    1583097215  {'blue': {'dq_team_keys': [], 'score': 134, 's...   \n",
       "..          ...                                                ...   \n",
       "84   1583008167  {'blue': {'dq_team_keys': [], 'score': 64, 'su...   \n",
       "85   1583101803  {'blue': {'dq_team_keys': [], 'score': 139, 's...   \n",
       "86   1583102858  {'blue': {'dq_team_keys': [], 'score': 94, 'su...   \n",
       "87   1583102423  {'blue': {'dq_team_keys': [], 'score': 147, 's...   \n",
       "88   1583103375  {'blue': {'dq_team_keys': [], 'score': 158, 's...   \n",
       "\n",
       "                key  match_number  \\\n",
       "0    2020wasno_f1m1             1   \n",
       "1    2020wasno_f1m2             2   \n",
       "2   2020wasno_qf1m1             1   \n",
       "3   2020wasno_qf1m2             2   \n",
       "4   2020wasno_qf2m1             1   \n",
       "..              ...           ...   \n",
       "84    2020wasno_qm9             9   \n",
       "85  2020wasno_sf1m1             1   \n",
       "86  2020wasno_sf1m2             2   \n",
       "87  2020wasno_sf2m1             1   \n",
       "88  2020wasno_sf2m2             2   \n",
       "\n",
       "                                      score_breakdown  \n",
       "0   {'blue': {'adjustPoints': 0, 'autoCellPoints':...  \n",
       "1   {'blue': {'adjustPoints': 0, 'autoCellPoints':...  \n",
       "2   {'blue': {'adjustPoints': 0, 'autoCellPoints':...  \n",
       "3   {'blue': {'adjustPoints': 0, 'autoCellPoints':...  \n",
       "4   {'blue': {'adjustPoints': 0, 'autoCellPoints':...  \n",
       "..                                                ...  \n",
       "84  {'blue': {'adjustPoints': 0, 'autoCellPoints':...  \n",
       "85  {'blue': {'adjustPoints': 0, 'autoCellPoints':...  \n",
       "86  {'blue': {'adjustPoints': 0, 'autoCellPoints':...  \n",
       "87  {'blue': {'adjustPoints': 0, 'autoCellPoints':...  \n",
       "88  {'blue': {'adjustPoints': 0, 'autoCellPoints':...  \n",
       "\n",
       "[89 rows x 5 columns]"
      ]
     },
     "execution_count": 13,
     "metadata": {},
     "output_type": "execute_result"
    }
   ],
   "source": [
    "mtch_df = pd.DataFrame(matches)\n",
    "mtch_df[['actual_time', 'alliances', 'key', 'match_number','score_breakdown']]"
   ]
  },
  {
   "cell_type": "markdown",
   "metadata": {},
   "source": [
    "Hmmm. It's not nearly as readable as the event or district data frames we created earlier. Can you see why?\n",
    "\n",
    "First, we need to use some new terms before we can discuss the differences between the match JSON data and the district and event JSON data.  \n",
    "* **Atomic Data / Atomic Values:** Pieces of data that cannot be divided into smaller portions. Integers, floating point values, and Boolean values are atomic. We consider strings to be atomic as well, even though they can be split into separate characters. The word *atomic* is derived from the ancient Greek word *atomos*, which means uncuttable.\n",
    "* **Composite Data / Composite Values:** Strings, dictionaries, arrays, tuples, sets, and data frames are all examples of composite data."
   ]
  },
  {
   "cell_type": "markdown",
   "metadata": {},
   "source": [
    "Now let's take another look at the district JSON data that we retrieved from TBA-API. The dataframe created from this data only contains atomic data.\n",
    "\n",
    "```JSON\n",
    "[{'abbreviation': 'chs',\n",
    "  'display_name': 'FIRST Chesapeake',\n",
    "  'key': '2020chs',\n",
    "  'year': 2020},\n",
    " {'abbreviation': 'fim',\n",
    "  'display_name': 'FIRST In Michigan',\n",
    "  'key': '2020fim',\n",
    "  'year': 2020},\n",
    " {'abbreviation': 'fma',\n",
    "  'display_name': 'FIRST Mid-Atlantic',\n",
    "  'key': '2020fma',\n",
    "  'year': 2020}]\n",
    "  ...\n",
    "```\n",
    "The JSON data consists of a list of dictionary objects. Every dictionary value is an atomic value. We can see how the JSON corresponds to the data frame that Pandas constructed from the JSON data (see below). Each dictionary corresponds to a single row in the data frame and the dictionary key is the name of the corresponding column in the data frame."
   ]
  },
  {
   "cell_type": "markdown",
   "metadata": {},
   "source": [
    "Like the JSON data for districts and events, the matches JSON data consists of a list of dictionaries, but the similarities end there. Consider the value of the *alliances* dictionary entry for the first match in the data set:"
   ]
  },
  {
   "cell_type": "code",
   "execution_count": 15,
   "metadata": {},
   "outputs": [
    {
     "data": {
      "text/plain": [
       "{'blue': {'dq_team_keys': [],\n",
       "  'score': 136,\n",
       "  'surrogate_team_keys': [],\n",
       "  'team_keys': ['frc2930', 'frc2976', 'frc4918']},\n",
       " 'red': {'dq_team_keys': [],\n",
       "  'score': 148,\n",
       "  'surrogate_team_keys': [],\n",
       "  'team_keys': ['frc4911', 'frc2910', 'frc4173']}}"
      ]
     },
     "execution_count": 15,
     "metadata": {},
     "output_type": "execute_result"
    }
   ],
   "source": [
    "matches[0]['alliances']"
   ]
  },
  {
   "cell_type": "markdown",
   "metadata": {},
   "source": [
    "First, find this data in the larger extract of JSON match data above, and make sure you understand how this portion relates to the whole - It's the value corresponding to the the *alliances* key contained in the first dictionary of the outer list.\n",
    "\n",
    "Next, note that instead of containing an atomic value, the *alliances* entry contains a composite value, another dictionary. The first entry in this sub-dictionary, which has the dictionary key *blue*, is another dictionary. But wait, there's more. The *team_keys* entry in the sub-sub-dictionary contains a list, another composite value.\n",
    "\n",
    "So we have a list within a dictionary within another dictionary within yet another dictionary within a list. There is no readily apparent way to convert this data into a simple table with rows and columns of atomic data. This brings us to the next two terms we need for our vocabulary of data:\n",
    "\n",
    "* **Flat Data / Flat Table:** Data or tables that consist of atomic values are described as flat. For example, the districts dataframe is a flat dataframe. Non-tabular data, such as JSON, that can easily be converted into a two-dimensional table of atomic values can also be described as flat.\n",
    "* **Nested Data:** Data that has composite values contained or nested within other composite values is described as nested if there is more than one level of nesting. Such data cannot easily be converted to a flat data structure.\n",
    "\n",
    "Examples:\n",
    " * The districts JSON data has only one level of nesting and was easily converted to a dataframe of atomic values. The districts JSON data is flat.\n",
    " * The matches JSON data has several levels of nesting, where composite values (i.e., dictionaries or lists) are embedded within other composite values - this is nested data.\n",
    "\n",
    "Now we have the vocabulary to explain why the matches data cannot easily be converted into a flat table. The matches JSON data has at least four levels of nesting."
   ]
  },
  {
   "cell_type": "markdown",
   "metadata": {},
   "source": [
    "## D. Times Reported by TBA-API\n",
    "The match data provided by TBA-API includes several columns with dates and times: *time*, *actual_time*, *predicted_time*, and *post_result_time*.  But the contents of these columns don't make much sense, at least at first glance."
   ]
  },
  {
   "cell_type": "code",
   "execution_count": 18,
   "metadata": {},
   "outputs": [
    {
     "data": {
      "text/plain": [
       "0    1583103960\n",
       "1    1583104380\n",
       "2    1583096400\n",
       "3    1583098080\n",
       "4    1583096820\n",
       "Name: time, dtype: int64"
      ]
     },
     "execution_count": 18,
     "metadata": {},
     "output_type": "execute_result"
    }
   ],
   "source": [
    "mtch_df.time.head()"
   ]
  },
  {
   "cell_type": "markdown",
   "metadata": {},
   "source": [
    "TBA-API reports times as UNIX time stamps. The value 1583103960 is the number of seconds that have elapsed since 00:00 on 1 January 1970.\n",
    "\n",
    "Why on Earth does the TBA-API report time in seconds since January 1st 1970? Perhaps the TBA developers liked this compact format - it only takes 10 characters to report time and date to the nearest second. But why start on January 1st 1970? Probably because that's how [UNIX operating systems](https://en.wikipedia.org/wiki/Unix) measure time, and UNIX influenced the development of many subsequent operating systems. January 1st 1970 has no special significance. The engineers working on UNIX at Bell Labs back in the early 1970s needed to pick a start date for their operating systems time measurements, and January 1st 1970 seemed like a good choice at the time. If you must know more, [check out this article](https://www.wired.com/2001/09/unix-tick-tocks-to-a-billion/).\n",
    "\n",
    "How do we convert UNIX timestamps into a value we can read? Use the `datetime` object from the [`datetime` package](https://docs.python.org/3/library/datetime.html) in the Python Standard Library:"
   ]
  },
  {
   "cell_type": "code",
   "execution_count": 19,
   "metadata": {},
   "outputs": [
    {
     "data": {
      "text/plain": [
       "datetime.datetime(2020, 3, 1, 23, 6)"
      ]
     },
     "execution_count": 19,
     "metadata": {},
     "output_type": "execute_result"
    }
   ],
   "source": [
    "time1 = datetime.datetime.utcfromtimestamp(1583103960)\n",
    "time1"
   ]
  },
  {
   "cell_type": "code",
   "execution_count": 20,
   "metadata": {},
   "outputs": [
    {
     "data": {
      "text/plain": [
       "'2020-03-01 23:06:00'"
      ]
     },
     "execution_count": 20,
     "metadata": {},
     "output_type": "execute_result"
    }
   ],
   "source": [
    "time1.strftime('%Y-%m-%d %H:%M:%S')"
   ]
  },
  {
   "cell_type": "markdown",
   "metadata": {},
   "source": [
    "Here's a quick exercise. Use the `utcfromtimestamp()` method to figure out when the UNIX time stamp will be equal to **161318161318**."
   ]
  },
  {
   "cell_type": "code",
   "execution_count": null,
   "metadata": {},
   "outputs": [],
   "source": []
  },
  {
   "cell_type": "markdown",
   "metadata": {},
   "source": [
    "## Digression\n",
    "FYI, UNIX was invented in the late 1960s by two computer scientists, Ken Thompson and Dennis Ritchie. It started as a side project on a smaller, older PDP-7 computer, but eventually they talked their bosses into purchasing a newer PDP-11 so they could build a text-processing system for the patent department. It just so happened that the text processing system needed an operating system on which to run. The operating system they built, UNIX, has influenced every operating system built since then.\n",
    "\n",
    "As if UNIX wasn't enough, Dennis Ritchie invented C and Ken Thompson worked on regular expressions and UTF-8 encoding. This photo shows Dennis Ritchie (standing) and Ken Thompson (sitting) working at a Digital Equipment Corporatoin PDP-11 computer around 1970.\n",
    "![Ken Thompson (sitting) and Dennis Ritchie working on a PDP-11 Computer](images/unix.jpg)"
   ]
  },
  {
   "cell_type": "code",
   "execution_count": null,
   "metadata": {},
   "outputs": [],
   "source": []
  }
 ],
 "metadata": {
  "kernelspec": {
   "display_name": "Python 3",
   "language": "python",
   "name": "python3"
  },
  "language_info": {
   "codemirror_mode": {
    "name": "ipython",
    "version": 3
   },
   "file_extension": ".py",
   "mimetype": "text/x-python",
   "name": "python",
   "nbconvert_exporter": "python",
   "pygments_lexer": "ipython3",
   "version": "3.7.6"
  }
 },
 "nbformat": 4,
 "nbformat_minor": 4
}
