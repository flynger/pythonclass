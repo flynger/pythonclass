{
 "cells": [
  {
   "cell_type": "markdown",
   "metadata": {},
   "source": [
    "[Table of Contents](../../index.ipynb)"
   ]
  },
  {
   "cell_type": "markdown",
   "metadata": {},
   "source": [
    "# Procedure 03: Cloning the Pyclass_FRC Repository with Git\n",
    "**Last Updated: 25 April 2020**\n",
    "\n",
    "This class uses the Git version control system and the Github code sharing service. To complete this class, students must install Git on their local computer and download the class materials from Github."
   ]
  },
  {
   "cell_type": "markdown",
   "metadata": {},
   "source": [
    "## I. Install Git\n",
    "1. Go to http://git-scm.com/downloads and download and install the version of git for your operating system.\n",
    "![Git Download Link](images/git_01.png)\n",
    "2. Accept all default options, *except* on the 5th screen, set *Visual Studio Code* to be the default editor.\n",
    "3. Test the git installation.\n",
    "  * Open a Powershell window.\n",
    "  * Run this command: `git --version`\n",
    "  * You should see somewthing like this:\n",
    "  ![Git Version Check](images/git_02.png)"
   ]
  },
  {
   "cell_type": "markdown",
   "metadata": {},
   "source": [
    "## II. Create a Github Account\n",
    "1. Go to http://github.com.\n",
    "\n",
    "2. Click the *Sign up* link in the upper right.\n",
    "\n",
    "3. Create a username, enter an email address, and create a password. Follow the instructions on the screen to create your github account.\n",
    "* You will probably have to verify your email address.\n",
    "* Unless you sometimes find yourself thinking \"Gee, I wish I received more useless email,\" uncheck the box under *Email preferences*."
   ]
  },
  {
   "cell_type": "markdown",
   "metadata": {},
   "source": [
    "## III. Create a Folder to Store Python Files\n",
    "1. Use *Windows File Explorer* or a CLI to create a folder on your computer to contain the files for this class and the Python programs you will write. The folder should be within your user directory. Example folder locations on *Windows:*\n",
    "```Bash\n",
    "C:/Users/asimov/python\n",
    "C:/Users/biship/onedrive/python\n",
    "```"
   ]
  },
  {
   "cell_type": "markdown",
   "metadata": {},
   "source": [
    "## IV. Clone this Repository to Your Local Computer\n",
    "Code projects on Github are called repositories. We are going to copy (i.e., clone) the Python class files from the online Github repository to your local computer.\n",
    "\n",
    "1. Open a Powershell or other CLI to the folder created in section III. Refer to [session 04 on command line interfaces](../../sessions/s04_command_line/s04_command_line.ipynb) for instructions on how to open Powershell to a spedific folder.\n",
    "\n",
    "2. Go to the Github page for this repository: https://github.com/irs1318dev/pyclass_frc. Click on the *Cone or Download* button.\n",
    "\n",
    "![myTBA Link](images/github_01.png) \n",
    "\n",
    "3. Click on the clipboard icon to copy the repository URL to your clipboard.\n",
    "![myTBA Link](images/github_02.png) \n",
    "\n",
    "3. In the powershell window that is open to your Python class folder, type `git clone ` and then paste the URL you copied in step 2 (CTRL+V). Hit *ENTER*.\n",
    "\n",
    "![myTBA Link](images/github_03.png) \n",
    "\n",
    "4. In step 3 you just copied this notebook and the rest of the *FRC Python Class* repository to your computer. Run Jupyter Notebook on your computer and open and run the local copy of this notebook."
   ]
  },
  {
   "cell_type": "markdown",
   "metadata": {},
   "source": [
    "## V. What Did We Just Do?\n",
    "* Git just made a copy of all the files from the Github repository on your local computer.\n",
    "* We will use github for the remainder of this course to share code and other files.\n",
    "* Think of the git program that we installed earlier as a client program, and github is the server. Git allows us to upload and download code to and from the Github server.\n",
    "* Git has tools that makes it easier for several people to work on a program at the same time.\n",
    "* Git can store different versions of the same program, and allows you to easily revert back to earlier versions of code by typing a simple command.\n",
    "\n",
    "The IRS and many other FRC teams use github to store code for all programming projects. "
   ]
  },
  {
   "cell_type": "markdown",
   "metadata": {},
   "source": [
    "## VI. Getting Python Class Updates\n",
    "The Python class is still being developed, with new sessions, procedures, and projects being added. You will use Git to keep your version of the Python class synchronized with the Python tutorial files on Github. Follow this procedure every time you work on the class, or at least once a week.\n",
    "\n",
    "1. Open a Powershell window to the folder in which you cloned the Python class files.\n",
    "2. Enter the command `git status`. You should see this:\n",
    "\n",
    "![Git Status Command](images/git_status.png)\n"
   ]
  },
  {
   "cell_type": "markdown",
   "metadata": {},
   "source": [
    "[Table of Contents](../../index.ipynb)"
   ]
  }
 ],
 "metadata": {
  "kernelspec": {
   "display_name": "Python 3",
   "language": "python",
   "name": "python3"
  },
  "language_info": {
   "codemirror_mode": {
    "name": "ipython",
    "version": 3
   },
   "file_extension": ".py",
   "mimetype": "text/x-python",
   "name": "python",
   "nbconvert_exporter": "python",
   "pygments_lexer": "ipython3",
   "version": "3.8.2"
  }
 },
 "nbformat": 4,
 "nbformat_minor": 4
}
