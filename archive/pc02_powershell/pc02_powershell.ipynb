{
 "cells": [
  {
   "cell_type": "markdown",
   "metadata": {},
   "source": [
    "[Table of Contents](../../index.ipynb)"
   ]
  },
  {
   "cell_type": "markdown",
   "metadata": {},
   "source": [
    "# FRC Analytics with Python - Procedure 02\n",
    "# Using the Command Line with Powershell\n",
    "**Last Updated: 25 April 2020**"
   ]
  },
  {
   "cell_type": "markdown",
   "metadata": {},
   "source": [
    "## I. Getting to Python Class Folder in Powershell.\n",
    "We will need to use the Powershell command line interpreter to download the Python course materials to our local computers.\n",
    "\n",
    "1. First create a folder on your computer that will contain your Python programs and the Python class files. You can do this in file explorer.\n",
    "2. Go to the folder in file explorer and click on the right side of the address bar, just below the tool ribbon. The path to the folder should be highlighted.\n",
    "![Selecting path to folder](images/copy_path.png)\n",
    "3. Hit CTRL+C to copy this path.\n",
    "4. Open the Anaconda Powershell window. Type `cd`, then a space, then hit CTRL+V to copy the path to your python class folder. Hit ENTER.\n",
    "  * This will cause powershell to go to your python class folder. Leave powershell open and go to [procedure 03 to install Git](../pc03_git/pc03_git.ipynb)."
   ]
  },
  {
   "cell_type": "markdown",
   "metadata": {},
   "source": [
    "## II. Command Line Material from Old Python Class\n",
    "Review this material if you are new to command line interfaces.\n",
    "\n",
    "The final slide explains how to create a custom powershell shortcut that will start in your Python class folder.\n",
    "\n",
    "![Slide1](images/command_line1.png)"
   ]
  },
  {
   "cell_type": "markdown",
   "metadata": {},
   "source": [
    "![Slide1](images/command_line2.png)"
   ]
  },
  {
   "cell_type": "markdown",
   "metadata": {},
   "source": [
    "![Slide1](images/command_line3.png)"
   ]
  },
  {
   "cell_type": "markdown",
   "metadata": {},
   "source": [
    "![Slide1](images/command_line4.png)"
   ]
  },
  {
   "cell_type": "code",
   "execution_count": null,
   "metadata": {},
   "outputs": [],
   "source": []
  }
 ],
 "metadata": {
  "kernelspec": {
   "display_name": "Python 3",
   "language": "python",
   "name": "python3"
  },
  "language_info": {
   "codemirror_mode": {
    "name": "ipython",
    "version": 3
   },
   "file_extension": ".py",
   "mimetype": "text/x-python",
   "name": "python",
   "nbconvert_exporter": "python",
   "pygments_lexer": "ipython3",
   "version": "3.8.2"
  }
 },
 "nbformat": 4,
 "nbformat_minor": 4
}
